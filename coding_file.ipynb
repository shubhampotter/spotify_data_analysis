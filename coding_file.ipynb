{
 "cells": [
  {
   "cell_type": "code",
   "execution_count": 1,
   "id": "3827580f",
   "metadata": {},
   "outputs": [],
   "source": [
    "# import basic libraries\n",
    "import pandas as pd\n",
    "import numpy as np\n",
    "import warnings\n",
    "warnings.filterwarnings('ignore')\n",
    "import matplotlib.pyplot as plt\n",
    "import seaborn as sns\n",
    "pd.set_option('display.max_columns',None)"
   ]
  },
  {
   "cell_type": "code",
   "execution_count": null,
   "id": "299e7fed",
   "metadata": {},
   "outputs": [],
   "source": [
    "# code to load the dataset and displaying top 5 rows\n",
    "data=pd.read_csv(r\"D:\\Downloads\\spotify-2023.csv\",encoding=\"latin1\")\n",
    "data.head()"
   ]
  },
  {
   "cell_type": "code",
   "execution_count": null,
   "id": "8b133957",
   "metadata": {},
   "outputs": [],
   "source": [
    "# code to display all the columns\n",
    "data.columns"
   ]
  },
  {
   "cell_type": "code",
   "execution_count": null,
   "id": "2c65c47f",
   "metadata": {},
   "outputs": [],
   "source": [
    "# code to see total rows and columns available in the dataset\n",
    "data.shape"
   ]
  },
  {
   "cell_type": "code",
   "execution_count": null,
   "id": "37bbbbb4",
   "metadata": {},
   "outputs": [],
   "source": [
    "# code to see type and null object of each column\n",
    "data.info()"
   ]
  },
  {
   "cell_type": "code",
   "execution_count": null,
   "id": "c013b0c7",
   "metadata": {},
   "outputs": [],
   "source": [
    "# checking null values\n",
    "data.isnull().sum()/data.shape[0]"
   ]
  },
  {
   "cell_type": "code",
   "execution_count": null,
   "id": "1fc7dfa9",
   "metadata": {},
   "outputs": [],
   "source": [
    "# filling null values with 0\n",
    "data.fillna(0, inplace=True)"
   ]
  },
  {
   "cell_type": "code",
   "execution_count": null,
   "id": "604b7714",
   "metadata": {},
   "outputs": [],
   "source": [
    "# checking total null value present in each columns\n",
    "data.isnull().sum()"
   ]
  },
  {
   "cell_type": "code",
   "execution_count": null,
   "id": "499a177f",
   "metadata": {},
   "outputs": [],
   "source": [
    "## Feature Engineering"
   ]
  },
  {
   "cell_type": "code",
   "execution_count": null,
   "id": "8c834edd",
   "metadata": {},
   "outputs": [],
   "source": [
    "# Convert non-numeric values to NaN\n",
    "data['streams'] = pd.to_numeric(data['streams'], errors='coerce')\n",
    "data.dropna(subset=['streams'], inplace=True)"
   ]
  },
  {
   "cell_type": "code",
   "execution_count": null,
   "id": "2656ab58",
   "metadata": {},
   "outputs": [],
   "source": [
    "# Convert non-numeric values to NaN\n",
    "data['in_deezer_playlists'] = pd.to_numeric(data['in_deezer_playlists'], errors='coerce')\n",
    "data.dropna(subset=['in_deezer_playlists'], inplace=True)"
   ]
  },
  {
   "cell_type": "code",
   "execution_count": null,
   "id": "c6ba5864",
   "metadata": {},
   "outputs": [],
   "source": [
    "# Convert non-numeric values to NaN\n",
    "data['in_shazam_charts'] = pd.to_numeric(data['in_shazam_charts'], errors='coerce')\n",
    "data.dropna(subset=['in_shazam_charts'], inplace=True)"
   ]
  },
  {
   "cell_type": "code",
   "execution_count": null,
   "id": "4f9796d6",
   "metadata": {},
   "outputs": [],
   "source": [
    "\n",
    "# Mapping dictionary for alphanumeric keys to numeric values\n",
    "key_mapping = {'C': 0, 'C#': 1, 'D': 2, 'D#': 3, 'E': 4, 'F': 5, 'F#': 6, 'G': 7, 'G#': 8, 'A': 9, 'A#': 10, 'B': 11}\n",
    "\n",
    "# Convert alphanumeric keys to numeric values\n",
    "data['key'] = data['key'].map(key_mapping)"
   ]
  },
  {
   "cell_type": "code",
   "execution_count": null,
   "id": "ab236ba5",
   "metadata": {},
   "outputs": [],
   "source": [
    "# check value present in mode column\n",
    "data['mode'].value_counts()"
   ]
  },
  {
   "cell_type": "code",
   "execution_count": null,
   "id": "878dfe48",
   "metadata": {},
   "outputs": [],
   "source": [
    "key_map={'Major':1.0,'Minor':0.0}\n",
    "# Convert alphanumeric keys to numeric values\n",
    "data['mode'] = data['mode'].map(key_map)"
   ]
  },
  {
   "cell_type": "code",
   "execution_count": null,
   "id": "20a9a56b",
   "metadata": {},
   "outputs": [],
   "source": [
    "# change all the int to float\n",
    "# Select only the integer columns\n",
    "integer_columns = data.select_dtypes(include='int64').columns\n",
    "\n",
    "# Convert selected integer columns to float\n",
    "data[integer_columns] = data[integer_columns].astype(float)"
   ]
  },
  {
   "cell_type": "code",
   "execution_count": null,
   "id": "de96ab05",
   "metadata": {},
   "outputs": [],
   "source": [
    "# checking duplicate rows\n",
    "data[data.duplicated()]\n",
    "\n"
   ]
  },
  {
   "cell_type": "code",
   "execution_count": null,
   "id": "00d11365",
   "metadata": {},
   "outputs": [],
   "source": [
    "## EDA"
   ]
  },
  {
   "cell_type": "code",
   "execution_count": null,
   "id": "cb2a0913",
   "metadata": {},
   "outputs": [],
   "source": [
    "# Description of the Data\n",
    "data.describe()"
   ]
  },
  {
   "cell_type": "code",
   "execution_count": null,
   "id": "d222450a",
   "metadata": {},
   "outputs": [],
   "source": [
    "# top 10 highest streamed song\n",
    "top_streams=data.sort_values('streams',ascending=False).head(10)\n",
    "top_streams[['track_name','streams']]"
   ]
  },
  {
   "cell_type": "code",
   "execution_count": null,
   "id": "25320baa",
   "metadata": {},
   "outputs": [],
   "source": [
    "top_streams[['track_name','streams']].plot(kind='barh',x='track_name',y='streams')\n",
    "plt.title(\"Top 10 streamed songs\")\n",
    "plt.show()"
   ]
  },
  {
   "cell_type": "code",
   "execution_count": null,
   "id": "68cd1411",
   "metadata": {},
   "outputs": [],
   "source": [
    "# top 10 highest presence in_spotify_playlists\n",
    "sorted_spotify_playlist=data.sort_values('in_spotify_playlists',ascending=False).head(10)\n",
    "sorted_spotify_playlist[['track_name','in_spotify_playlists']]"
   ]
  },
  {
   "cell_type": "code",
   "execution_count": null,
   "id": "a6f0bb02",
   "metadata": {},
   "outputs": [],
   "source": [
    "# visualtion of Top 10 songs with highest playlist in spotify\n",
    "sorted_spotify_playlist[['track_name','in_spotify_playlists']].plot(kind='barh',x='track_name',y='in_spotify_playlists')\n",
    "plt.title('Top 10 songs with highest playlist in spotify')\n",
    "plt.show()"
   ]
  },
  {
   "cell_type": "code",
   "execution_count": null,
   "id": "b717d71b",
   "metadata": {},
   "outputs": [],
   "source": [
    "# top 10 highest in_apple_playlists\n",
    "sorted_apple_playlist=data.sort_values('in_apple_playlists',ascending=False).head(10)\n",
    "sorted_apple_playlist=sorted_apple_playlist[['track_name','in_apple_playlists']]\n",
    "sorted_apple_playlist"
   ]
  },
  {
   "cell_type": "code",
   "execution_count": null,
   "id": "1a09e41f",
   "metadata": {},
   "outputs": [],
   "source": [
    "# visualtion of Top 10 songs with highest playlist in Apple\n",
    "sorted_apple_playlist.plot(kind='barh',x='track_name',y='in_apple_playlists')\n",
    "plt.title('Top 10 songs with highest playlist in Apple')\n",
    "plt.show()"
   ]
  },
  {
   "cell_type": "code",
   "execution_count": null,
   "id": "0ff1d25c",
   "metadata": {},
   "outputs": [],
   "source": [
    "# Top 10 artists with most songs in the dataset\n",
    "top_artists = data['artist(s)_name'].value_counts().head(10)\n",
    "top_artists"
   ]
  },
  {
   "cell_type": "code",
   "execution_count": null,
   "id": "c3f7795d",
   "metadata": {},
   "outputs": [],
   "source": [
    "# visualization of top 10 artist\n",
    "plt.figure(figsize=(4,4))\n",
    "top_artists.plot(kind='bar')\n",
    "plt.title(\"Top 10 Artists with most songs\")\n",
    "plt.ylabel('no. of songs')\n",
    "plt.show()"
   ]
  },
  {
   "cell_type": "code",
   "execution_count": null,
   "id": "28d57b21",
   "metadata": {},
   "outputs": [],
   "source": [
    "# top 5 year when most song released\n",
    "plt.figure(figsize=(4, 4))\n",
    "data['released_year'].value_counts().head().plot(kind='bar')\n",
    "plt.title('Top 5 Released Years')\n",
    "plt.xlabel('Year')\n",
    "plt.ylabel('No. of Songs')"
   ]
  },
  {
   "cell_type": "code",
   "execution_count": null,
   "id": "486a0a26",
   "metadata": {},
   "outputs": [],
   "source": [
    "data.columns"
   ]
  },
  {
   "cell_type": "code",
   "execution_count": null,
   "id": "9fd23f54",
   "metadata": {},
   "outputs": [],
   "source": [
    "# Select columns for audio features\n",
    "playlist_charts_colums =['in_spotify_playlists','in_spotify_charts','in_apple_playlists','in_apple_charts','in_deezer_playlists','in_deezer_charts','in_shazam_charts','streams']\n",
    "# Calculate the correlation matrix\n",
    "correlation_matrix = data[playlist_charts_colums].corr(method='pearson')\n",
    "\n",
    "# Plot the heatmap\n",
    "plt.figure(figsize=(7, 4))\n",
    "sns.heatmap(correlation_matrix, annot=True,fmt=\"0.1g\",cmap='inferno', center=0,linewidths=1,linecolor=\"Black\")\n",
    "plt.title('Correlation Heatmap: Cross-Platform Metrics')\n",
    "plt.show()"
   ]
  },
  {
   "cell_type": "code",
   "execution_count": null,
   "id": "cc1eed35",
   "metadata": {},
   "outputs": [],
   "source": [
    "# code for checking for bell curve for each features \n",
    "from plotly.subplots import make_subplots\n",
    "import plotly.graph_objects as go\n",
    "\n",
    "fig=make_subplots(rows=3,cols=3,subplot_titles=('<i>danceability_%', '<i>energy_%','<i>instrumentalness_%', '<i>speechiness_%','<i>acousticness_%','<i>liveness_%' , '<i>valence_%' ))\n",
    "fig.add_trace(go.Histogram(x=data['danceability_%'],name='danceability_%'),row=1,col=1)\n",
    "fig.add_trace(go.Histogram(x=data['energy_%'],name='energy_%'),row=1,col=2)\n",
    "fig.add_trace(go.Histogram(x=data['instrumentalness_%'],name='instrumentalness_%'),row=1,col=3)\n",
    "fig.add_trace(go.Histogram(x=data['speechiness_%'],name='speechiness_%'),row=2,col=1)\n",
    "fig.add_trace(go.Histogram(x=data['acousticness_%'],name='acousticness_%'),row=2,col=2)\n",
    "fig.add_trace(go.Histogram(x=data['liveness_%'],name='liveness_%'),row=2,col=3)\n",
    "fig.add_trace(go.Histogram(x=data['valence_%'],name='valence_%'),row=3,col=1)\n",
    "fig.update_layout(height=900,width=900,title_text='<b>Feature Distribution')\n",
    "fig.update_layout(template='plotly_dark',title_x=0.5)"
   ]
  },
  {
   "cell_type": "code",
   "execution_count": null,
   "id": "259da63e",
   "metadata": {},
   "outputs": [],
   "source": [
    "## Applying regression plot to understand what song attribute significantly contributes to a song’s success"
   ]
  },
  {
   "cell_type": "code",
   "execution_count": null,
   "id": "e3428b0a",
   "metadata": {},
   "outputs": [],
   "source": [
    "# reg plot code for Danceability VS Streams\n",
    "plt.figure(figsize=(5,4))\n",
    "sns.regplot(data=data,x='danceability_%',y='streams',color='c').set(title='Danceability VS Streams')\n",
    "plt.show()"
   ]
  },
  {
   "cell_type": "code",
   "execution_count": null,
   "id": "8dfcc399",
   "metadata": {},
   "outputs": [],
   "source": [
    "# reg plot code for valence_% VS Streams\n",
    "plt.figure(figsize=(5,4))\n",
    "sns.regplot(data=data,x='valence_%',y='streams',color='y').set(title='valence_% VS Streams')\n",
    "plt.show()"
   ]
  },
  {
   "cell_type": "code",
   "execution_count": null,
   "id": "e2809bf3",
   "metadata": {},
   "outputs": [],
   "source": [
    "# reg plot code for energy_% VS Streams\n",
    "plt.figure(figsize=(5,4))\n",
    "sns.regplot(data=data,x='energy_%',y='streams',color='g').set(title='energy_% VS Streams')\n",
    "plt.show()"
   ]
  },
  {
   "cell_type": "code",
   "execution_count": null,
   "id": "89b5653f",
   "metadata": {},
   "outputs": [],
   "source": [
    "# Select columns for audio features and popularity\n",
    "audio_features_columns = ['danceability_%', 'energy_%', 'valence_%']\n",
    "popularity_column = 'streams'\n",
    "\n",
    "# Create scatter plots\n",
    "plt.figure(figsize=(12, 4))\n",
    "for feature in audio_features_columns:\n",
    "    sns.scatterplot(data=data, x=feature, y=popularity_column, alpha=0.5, label=feature.replace('_', ' ').title())\n",
    "\n",
    "plt.xlabel('Audio Feature')\n",
    "plt.ylabel('Number of Streams')\n",
    "plt.title('Relationship Between Audio Features and Song Popularity')\n",
    "plt.legend()\n",
    "plt.show()"
   ]
  },
  {
   "cell_type": "code",
   "execution_count": null,
   "id": "28b4d2e1",
   "metadata": {},
   "outputs": [],
   "source": [
    "# Select columns for audio features\n",
    "success__metrics_colums = ['danceability_%', 'energy_%', 'valence_%','acousticness_%', 'instrumentalness_%', 'liveness_%',  'speechiness_%','streams']\n",
    "\n",
    "# Calculate the correlation matrix\n",
    "correlation_matrix = data[success__metrics_colums].corr(method='pearson')\n",
    "\n",
    "# Plot the heatmap\n",
    "plt.figure(figsize=(7, 4))\n",
    "sns.heatmap(correlation_matrix, annot=True,fmt=\"0.1g\",cmap='inferno', center=0,linewidths=1,linecolor=\"Black\")\n",
    "plt.title('Correlation Heatmap: Cross-Platform Metrics')\n",
    "plt.show()"
   ]
  },
  {
   "cell_type": "code",
   "execution_count": null,
   "id": "69bcc05f",
   "metadata": {},
   "outputs": [],
   "source": [
    "# code for checking coorelation between the features\n",
    "correlation_matrix"
   ]
  },
  {
   "cell_type": "code",
   "execution_count": null,
   "id": "4c199c27",
   "metadata": {},
   "outputs": [],
   "source": []
  }
 ],
 "metadata": {
  "kernelspec": {
   "display_name": "Python 3 (ipykernel)",
   "language": "python",
   "name": "python3"
  },
  "language_info": {
   "codemirror_mode": {
    "name": "ipython",
    "version": 3
   },
   "file_extension": ".py",
   "mimetype": "text/x-python",
   "name": "python",
   "nbconvert_exporter": "python",
   "pygments_lexer": "ipython3",
   "version": "3.11.5"
  }
 },
 "nbformat": 4,
 "nbformat_minor": 5
}
